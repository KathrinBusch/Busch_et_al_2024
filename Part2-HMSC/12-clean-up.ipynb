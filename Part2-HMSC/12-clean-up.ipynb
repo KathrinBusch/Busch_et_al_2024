{
 "cells": [
  {
   "cell_type": "code",
   "execution_count": 2,
   "id": "f51b0562",
   "metadata": {},
   "outputs": [],
   "source": [
    "import os\n",
    "import shutil"
   ]
  },
  {
   "cell_type": "code",
   "execution_count": 3,
   "id": "77e74279",
   "metadata": {},
   "outputs": [],
   "source": [
    "os.rename(\"C:/Users/Desktop/subsetted_goodASVs_clim_group.txt\", \"C:/Users/Desktop/plotting/subsetted_goodASVs_clim_group.txt\")\n",
    "os.rename(\"C:/Users/Desktop/Present_BtmTmp_subsetted.txt\", \"C:/Users/Desktop/plotting/Present_BtmTmp_subsetted.txt\")\n",
    "os.rename(\"C:/Users/Desktop/bcb979ea7d6db9f1e81929d5a490002c_Present.txt\", \"C:/Users/Desktop/plotting/bcb979ea7d6db9f1e81929d5a490002c_Present.txt\")\n",
    "os.rename(\"C:/Users/Desktop/X016474f092254f68cbfe8b808fbdebe8_Present.txt\", \"C:/Users/Desktop/plotting/X016474f092254f68cbfe8b808fbdebe8_Present.txt\")\n",
    "os.rename(\"C:/Users/Desktop/map_ASV1_Present.pdf\", \"C:/Users/Desktop/plotting/map_ASV1_Present.pdf\")\n",
    "os.rename(\"C:/Users/Desktop/map_ASV2_Present.pdf\", \"C:/Users/Desktop/plotting/map_ASV2_Present.pdf\")\n",
    "os.rename(\"C:/Users/Desktop/line_plot_two_taxa.pdf\", \"C:/Users/Desktop/plotting/line_plot_two_taxa.pdf\")"
   ]
  },
  {
   "cell_type": "code",
   "execution_count": null,
   "id": "c9ffc118",
   "metadata": {},
   "outputs": [],
   "source": [
    "shutil.move(\"C:/Users/Desktop/plotting\", \"C:/Users/Desktop/modelling\")"
   ]
  }
 ],
 "metadata": {
  "kernelspec": {
   "display_name": "venv",
   "language": "python",
   "name": "venv"
  },
  "language_info": {
   "codemirror_mode": {
    "name": "ipython",
    "version": 3
   },
   "file_extension": ".py",
   "mimetype": "text/x-python",
   "name": "python",
   "nbconvert_exporter": "python",
   "pygments_lexer": "ipython3",
   "version": "3.11.0"
  }
 },
 "nbformat": 4,
 "nbformat_minor": 5
}
