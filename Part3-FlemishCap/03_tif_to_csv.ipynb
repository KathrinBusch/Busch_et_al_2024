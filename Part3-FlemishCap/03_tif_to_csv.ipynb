{
 "cells": [
  {
   "cell_type": "code",
   "execution_count": null,
   "id": "d2830b65",
   "metadata": {},
   "outputs": [],
   "source": [
    "from osgeo import gdal\n",
    "import pandas as pd\n",
    "import numpy as np\n",
    "import os\n",
    "import matplotlib.pyplot as plt\n",
    "from raster2xyz.raster2xyz import Raster2xyz"
   ]
  },
  {
   "cell_type": "code",
   "execution_count": null,
   "id": "f7a3a980",
   "metadata": {},
   "outputs": [],
   "source": [
    "input_raster = \"hma_Present_MeanPresProbRaster_RF.tif\"\n",
    "out_csv = \"hma_Present_MeanPresProbRaster_RF.csv\"\n",
    "rtxyz = Raster2xyz()\n",
    "rtxyz.translate(input_raster, out_csv)\n",
    "myRasterDF = pd.read_csv(out_csv)\n",
    "myRasterDF"
   ]
  },
  {
   "cell_type": "code",
   "execution_count": null,
   "id": "2dfb2aa0",
   "metadata": {},
   "outputs": [],
   "source": [
    "input_raster = \"lma_Present_MeanPresProbRaster_RF.tif\"\n",
    "out_csv = \"lma_Present_MeanPresProbRaster_RF.csv\"\n",
    "rtxyz = Raster2xyz()\n",
    "rtxyz.translate(input_raster, out_csv)\n",
    "myRasterDF = pd.read_csv(out_csv)\n",
    "myRasterDF"
   ]
  }
 ],
 "metadata": {
  "kernelspec": {
   "display_name": "venv",
   "language": "python",
   "name": "venv"
  },
  "language_info": {
   "codemirror_mode": {
    "name": "ipython",
    "version": 3
   },
   "file_extension": ".py",
   "mimetype": "text/x-python",
   "name": "python",
   "nbconvert_exporter": "python",
   "pygments_lexer": "ipython3",
   "version": "3.11.0"
  }
 },
 "nbformat": 4,
 "nbformat_minor": 5
}
